{
 "cells": [
  {
   "cell_type": "code",
   "execution_count": 3,
   "metadata": {},
   "outputs": [],
   "source": [
    "# import modules\n",
    "\n",
    "import csv\n",
    "import pathlib as pl"
   ]
  },
  {
   "cell_type": "code",
   "execution_count": 4,
   "metadata": {},
   "outputs": [],
   "source": [
    "# Declare pathway contining dataset\n",
    "\n",
    "path = pl.Path(\"../02-Homework_02-Python_Instructions_PyBank_Resources_budget_data.csv\")"
   ]
  },
  {
   "cell_type": "code",
   "execution_count": 11,
   "metadata": {},
   "outputs": [],
   "source": []
  },
  {
   "cell_type": "code",
   "execution_count": 15,
   "metadata": {},
   "outputs": [
    {
     "data": {
      "text/plain": [
       "WindowsPath('/Users/Coding/python-homework/PyBank/02-Homework_02-Python_Instructions_PyBank_Resources_budget_data.csv')"
      ]
     },
     "execution_count": 15,
     "metadata": {},
     "output_type": "execute_result"
    }
   ],
   "source": []
  },
  {
   "cell_type": "code",
   "execution_count": 24,
   "metadata": {},
   "outputs": [],
   "source": []
  },
  {
   "cell_type": "code",
   "execution_count": 6,
   "metadata": {},
   "outputs": [
    {
     "name": "stdout",
     "output_type": "stream",
     "text": [
      "Financial Analysis\n",
      "----------------------------\n",
      "Total Months: 86\n",
      "Total: $38382578\n",
      "Average  Change: $-2315.12\n",
      "Greatest Increase in Profits: Feb-2012 ($1926159)\n",
      "Greatest Decrease in Profits: Sep-2013 ($-2196167)\n"
     ]
    }
   ],
   "source": [
    "# create empty list for native data retention\n",
    "\n",
    "data = []\n",
    "\n",
    "# open path for reading\n",
    "\n",
    "with path.open('r') as f:\n",
    "\n",
    "# Declare variable for previous day's profit/ loss\n",
    "    previous = None\n",
    "    \n",
    "# create reader\n",
    "\n",
    "    reader = csv.DictReader(f)\n",
    "# Iterate through contents of the CSV file\n",
    "\n",
    "    for item in reader:\n",
    "        \n",
    "# Set date variable to match with items in date column\n",
    "\n",
    "        date = item['Date']\n",
    "        profit = int(item['Profit/Losses'])\n",
    "\n",
    "# Write dictionary litteral and append it to list created above\n",
    "\n",
    "        data.append({\n",
    "            \n",
    "            'date': date,\n",
    "            'profit': profit,\n",
    "            'change': profit - previous if previous is not None else 0,\n",
    "        })\n",
    "\n",
    "# Update previous so that it reflects current day's profit for iteration\n",
    "\n",
    "        previous = profit\n",
    "    \n",
    "# Find highest and lowest values by using anonymous function\n",
    "\n",
    "highest = max(data, key=lambda x: x['change'])\n",
    "lowest = min(data, key=lambda x: x['change'])\n",
    "\n",
    "# Print results below in a string\n",
    "\n",
    "print(f\"\"\"Financial Analysis\n",
    "----------------------------\n",
    "Total Months: {len(data)}\n",
    "Total: ${sum(d['profit'] for d in data)}\n",
    "Average  Change: ${sum(d['change'] for d in data) / (len(data)-1):.02f}\n",
    "Greatest Increase in Profits: {highest['date']} (${highest['change']})\n",
    "Greatest Decrease in Profits: {lowest['date']} (${lowest['change']})\"\"\")"
   ]
  },
  {
   "cell_type": "code",
   "execution_count": null,
   "metadata": {},
   "outputs": [],
   "source": []
  },
  {
   "cell_type": "code",
   "execution_count": null,
   "metadata": {},
   "outputs": [],
   "source": []
  },
  {
   "cell_type": "code",
   "execution_count": null,
   "metadata": {},
   "outputs": [],
   "source": []
  },
  {
   "cell_type": "code",
   "execution_count": null,
   "metadata": {},
   "outputs": [],
   "source": []
  },
  {
   "cell_type": "code",
   "execution_count": null,
   "metadata": {},
   "outputs": [],
   "source": []
  },
  {
   "cell_type": "code",
   "execution_count": null,
   "metadata": {},
   "outputs": [],
   "source": []
  },
  {
   "cell_type": "code",
   "execution_count": null,
   "metadata": {},
   "outputs": [],
   "source": []
  }
 ],
 "metadata": {
  "kernelspec": {
   "display_name": "Python 3",
   "language": "python",
   "name": "python3"
  },
  "language_info": {
   "codemirror_mode": {
    "name": "ipython",
    "version": 3
   },
   "file_extension": ".py",
   "mimetype": "text/x-python",
   "name": "python",
   "nbconvert_exporter": "python",
   "pygments_lexer": "ipython3",
   "version": "3.8.5"
  }
 },
 "nbformat": 4,
 "nbformat_minor": 4
}
